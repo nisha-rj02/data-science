{
 "cells": [
  {
   "cell_type": "code",
   "execution_count": 1,
   "id": "fb6fd8d9",
   "metadata": {},
   "outputs": [
    {
     "name": "stdout",
     "output_type": "stream",
     "text": [
      "You are underweight\n"
     ]
    }
   ],
   "source": [
    "def calculate(height, weight):\n",
    "    BMI= weight/(height**2)\n",
    "    return BMI\n",
    "\n",
    "\n",
    "def BMI_category(BMI):\n",
    "    if BMI < 18.5:\n",
    "        print(\"You are underweight\")\n",
    "    elif BMI>=18.5 and BMI<=24.9:\n",
    "        print(\"You have a normal weight\")    \n",
    "    elif BMI>=24.9 and BMI<=29.9:\n",
    "        print(\"You are overweight\")\n",
    "    else:\n",
    "        print(\"You are obese\")\n",
    "\n",
    "\n",
    "def BMI_calculate():\n",
    "\n",
    "    height=float(input(\"Enter your height in metre:\"))\n",
    "    weight=float(input(\"Enter your weight in kilogram:\"))\n",
    "\n",
    "    bmi=calculate(height,weight)\n",
    "    BMI_category(bmi)\n",
    "\n",
    "BMI_calculate()\n",
    "\n"
   ]
  }
 ],
 "metadata": {
  "kernelspec": {
   "display_name": "Python 3",
   "language": "python",
   "name": "python3"
  },
  "language_info": {
   "codemirror_mode": {
    "name": "ipython",
    "version": 3
   },
   "file_extension": ".py",
   "mimetype": "text/x-python",
   "name": "python",
   "nbconvert_exporter": "python",
   "pygments_lexer": "ipython3",
   "version": "3.13.1"
  }
 },
 "nbformat": 4,
 "nbformat_minor": 5
}
