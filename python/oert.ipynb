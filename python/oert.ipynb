{
 "cells": [
  {
   "cell_type": "code",
   "execution_count": 1,
   "id": "638dfb4d",
   "metadata": {},
   "outputs": [
    {
     "name": "stdout",
     "output_type": "stream",
     "text": [
      "hello\n",
      "nisha\n",
      "muskan\n"
     ]
    }
   ],
   "source": [
    "print(\"hello\")\n",
    "print(\"nisha\")\n",
    "print(\"muskan\")"
   ]
  },
  {
   "cell_type": "code",
   "execution_count": 10,
   "id": "ad58d769",
   "metadata": {},
   "outputs": [
    {
     "name": "stdout",
     "output_type": "stream",
     "text": [
      "nisha singh\n",
      "akash singh\n"
     ]
    }
   ],
   "source": [
    "class A:\n",
    "    surname = \"singh\"\n",
    "    \n",
    "class B(A):\n",
    "    def info(self):\n",
    "        print(\"akash\",self.surname)\n",
    "\n",
    "class C(B):\n",
    "    def dept(self):\n",
    "        print(\"nisha\",self.surname)\n",
    "f1 = C()\n",
    "f1.dept()\n",
    "f1.info()"
   ]
  },
  {
   "cell_type": "code",
   "execution_count": 9,
   "id": "c6331b1d",
   "metadata": {},
   "outputs": [
    {
     "name": "stdout",
     "output_type": "stream",
     "text": [
      "nisha\n",
      "22\n",
      "thisisthe info\n",
      "five\n"
     ]
    }
   ],
   "source": [
    "class Student:\n",
    "   def info(self):\n",
    "     name = \"nisha\"\n",
    "     age = 22\n",
    "     print(name)\n",
    "     print(age)\n",
    "     print(\"thisisthe info\")\n",
    "class B(Student):\n",
    "   def pit(self):\n",
    "      print(\"five\")\n",
    "st_obj=B()\n",
    "st_obj.info()\n",
    "st_obj.pit()"
   ]
  }
 ],
 "metadata": {
  "kernelspec": {
   "display_name": "Python 3",
   "language": "python",
   "name": "python3"
  },
  "language_info": {
   "codemirror_mode": {
    "name": "ipython",
    "version": 3
   },
   "file_extension": ".py",
   "mimetype": "text/x-python",
   "name": "python",
   "nbconvert_exporter": "python",
   "pygments_lexer": "ipython3",
   "version": "3.13.1"
  }
 },
 "nbformat": 4,
 "nbformat_minor": 5
}
