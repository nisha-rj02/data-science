{
 "cells": [
  {
   "cell_type": "code",
   "execution_count": 1,
   "id": "e0f5df3e",
   "metadata": {},
   "outputs": [
    {
     "data": {
      "text/plain": [
       "'c:\\\\Users\\\\admin\\\\OneDrive\\\\Desktop\\\\data science nisha\\\\python'"
      ]
     },
     "execution_count": 1,
     "metadata": {},
     "output_type": "execute_result"
    }
   ],
   "source": [
    "import os\n",
    "os.getcwd()   #current working directory"
   ]
  },
  {
   "cell_type": "code",
   "execution_count": 2,
   "id": "14d1d321",
   "metadata": {},
   "outputs": [
    {
     "data": {
      "text/plain": [
       "['basic.py', 'demo.txt', 'oert.ipynb', 'os.ipynb']"
      ]
     },
     "execution_count": 2,
     "metadata": {},
     "output_type": "execute_result"
    }
   ],
   "source": [
    "os.listdir(r'c:\\\\Users\\\\admin\\\\OneDrive\\\\Desktop\\\\data science nisha\\\\python')"
   ]
  },
  {
   "cell_type": "code",
   "execution_count": 3,
   "id": "d89ce19c",
   "metadata": {},
   "outputs": [
    {
     "data": {
      "text/plain": [
       "['basic.py', 'demo.txt', 'oert.ipynb', 'os.ipynb']"
      ]
     },
     "execution_count": 3,
     "metadata": {},
     "output_type": "execute_result"
    }
   ],
   "source": [
    "os.listdir(r'c:\\\\Users\\\\admin\\\\OneDrive\\\\Desktop\\\\data science nisha\\\\python')"
   ]
  },
  {
   "cell_type": "code",
   "execution_count": 5,
   "id": "bceb15ba",
   "metadata": {},
   "outputs": [
    {
     "data": {
      "text/plain": [
       "['.vscode',\n",
       " 'a.exe',\n",
       " 'area.c',\n",
       " 'divisible.c',\n",
       " 'do.c',\n",
       " 'dowhile.c',\n",
       " 'example.txt',\n",
       " 'exp10.c',\n",
       " 'exp2.c',\n",
       " 'exp3.c',\n",
       " 'exp3.exe',\n",
       " 'exp4.c',\n",
       " 'exp5.c',\n",
       " 'exp6.c',\n",
       " 'exp7.c',\n",
       " 'exp8.c',\n",
       " 'exp8.exe',\n",
       " 'exp9.c',\n",
       " 'exp9.exe',\n",
       " 'factorial.c',\n",
       " 'for.c',\n",
       " 'function &recursion',\n",
       " 'function.c',\n",
       " 'funt.c',\n",
       " 'hello.c',\n",
       " 'hello.exe',\n",
       " 'hellop.c',\n",
       " 'html files',\n",
       " 'komal.c',\n",
       " 'komal.exe',\n",
       " 'lgate.c',\n",
       " 'logic.c',\n",
       " 'love.c',\n",
       " 'main.c',\n",
       " 'main.exe',\n",
       " 'mod.c',\n",
       " 'nisha.html',\n",
       " 'nishu.c',\n",
       " 'niu.c',\n",
       " 'oddeven.c',\n",
       " 'oh.c',\n",
       " 'pali.c',\n",
       " 'pdf file 1',\n",
       " 'percent.c',\n",
       " 'perimeter.c',\n",
       " 'rah.c',\n",
       " 'rahul',\n",
       " 'recursion.c',\n",
       " 'sachin.c',\n",
       " 'sqrec.c',\n",
       " 'sum.c',\n",
       " 'switch.c',\n",
       " 'temp.c',\n",
       " 'tion.c',\n",
       " 'unio.c',\n",
       " 'uppercase.c']"
      ]
     },
     "execution_count": 5,
     "metadata": {},
     "output_type": "execute_result"
    }
   ],
   "source": [
    "os.listdir(r\"C:\\Users\\admin\\OneDrive\\Desktop\\c language\")"
   ]
  },
  {
   "cell_type": "code",
   "execution_count": 6,
   "id": "5a234885",
   "metadata": {},
   "outputs": [],
   "source": [
    "file = open('demo.txt','x')\n",
    "file.close()"
   ]
  },
  {
   "cell_type": "code",
   "execution_count": 37,
   "id": "3b862be5",
   "metadata": {},
   "outputs": [
    {
     "data": {
      "text/plain": [
       "40"
      ]
     },
     "execution_count": 37,
     "metadata": {},
     "output_type": "execute_result"
    }
   ],
   "source": [
    "file =open('demo.txt','w')\n",
    "file.write('hello good mmorning to all' \\\n",
    "' my self nisha')\n",
    "#file.close()"
   ]
  },
  {
   "cell_type": "code",
   "execution_count": 38,
   "id": "1df5e1e8",
   "metadata": {},
   "outputs": [
    {
     "data": {
      "text/plain": [
       "'hello good mmorning to all my self nisha'"
      ]
     },
     "execution_count": 38,
     "metadata": {},
     "output_type": "execute_result"
    }
   ],
   "source": [
    "file = open('demo.txt','r')\n",
    "file.read()\n",
    "# file.close()"
   ]
  },
  {
   "cell_type": "code",
   "execution_count": 39,
   "id": "4393a05e",
   "metadata": {},
   "outputs": [],
   "source": [
    "file = open('demo.txt','a')\n",
    "file.write(\" i am from alwar\")\n",
    "file.close()"
   ]
  },
  {
   "cell_type": "code",
   "execution_count": 43,
   "id": "62f41f72",
   "metadata": {},
   "outputs": [],
   "source": [
    "file=open('demo.txt','r')\n",
    "file.readline()\n",
    "file.close()"
   ]
  },
  {
   "cell_type": "code",
   "execution_count": 46,
   "id": "92d4e0ad",
   "metadata": {},
   "outputs": [],
   "source": [
    "with open(\"practice.txt\",\"w\") as file:\n",
    "    file.write(\"i am learning java,java is a good language\")\n"
   ]
  },
  {
   "cell_type": "code",
   "execution_count": 47,
   "id": "741ce4e8",
   "metadata": {},
   "outputs": [
    {
     "data": {
      "text/plain": [
       "'i am learning java,java is a good language'"
      ]
     },
     "execution_count": 47,
     "metadata": {},
     "output_type": "execute_result"
    }
   ],
   "source": [
    "file=open('practice.txt','r')\n",
    "file.read()"
   ]
  },
  {
   "cell_type": "code",
   "execution_count": 52,
   "id": "db3d7f0b",
   "metadata": {},
   "outputs": [
    {
     "data": {
      "text/plain": [
       "'i am learning python,python is a good language'"
      ]
     },
     "execution_count": 52,
     "metadata": {},
     "output_type": "execute_result"
    }
   ],
   "source": [
    "file=open(\"practice.txt\",'r')\n",
    "# data=file.read()\n",
    "# new_data=data.replace(\"java\",\"python\")\n",
    "# print(new_data)\n",
    "file.read().replace(\"java\",\"python\")"
   ]
  },
  {
   "cell_type": "code",
   "execution_count": 50,
   "id": "d6b5e6b3",
   "metadata": {},
   "outputs": [
    {
     "name": "stdout",
     "output_type": "stream",
     "text": [
      "not found\n"
     ]
    }
   ],
   "source": [
    "word= \"agood\"\n",
    "file=open(\"practice.txt\",\"r\")\n",
    "data=file.read()\n",
    "if (data.find(word) != -1):\n",
    "    print(\"found\")\n",
    "else:\n",
    "    print(\"not found\")"
   ]
  },
  {
   "cell_type": "code",
   "execution_count": 8,
   "id": "e351f46b",
   "metadata": {},
   "outputs": [
    {
     "data": {
      "text/plain": [
       "'F:\\\\'"
      ]
     },
     "execution_count": 8,
     "metadata": {},
     "output_type": "execute_result"
    }
   ],
   "source": [
    "import os\n",
    "# os.makedirs(\"one/two\")\n",
    "os.chdir(\"F:\\\\\")\n",
    "os.getcwd()\n",
    "os.makedirs(\"one/two\")\n",
    "os.getcwd()"
   ]
  },
  {
   "cell_type": "code",
   "execution_count": null,
   "id": "35da420d",
   "metadata": {},
   "outputs": [
    {
     "name": "stdout",
     "output_type": "stream",
     "text": [
      "^C\n"
     ]
    },
    {
     "name": "stdout",
     "output_type": "stream",
     "text": [
      "Defaulting to user installation because normal site-packages is not writeable\n",
      "Collecting numpy\n",
      "  Downloading numpy-2.3.1-cp313-cp313-win_amd64.whl.metadata (60 kB)\n",
      "Downloading numpy-2.3.1-cp313-cp313-win_amd64.whl (12.7 MB)\n",
      "   ---------------------------------------- 0.0/12.7 MB ? eta -:--:--\n",
      "   ---------------------------------------- 0.0/12.7 MB ? eta -:--:--\n",
      "   ---------------------------------------- 0.0/12.7 MB ? eta -:--:--\n",
      "    --------------------------------------- 0.3/12.7 MB ? eta -:--:--\n",
      "    --------------------------------------- 0.3/12.7 MB ? eta -:--:--\n",
      "   - -------------------------------------- 0.5/12.7 MB 537.5 kB/s eta 0:00:23\n",
      "   - -------------------------------------- 0.5/12.7 MB 537.5 kB/s eta 0:00:23\n",
      "   -- ------------------------------------- 0.8/12.7 MB 581.2 kB/s eta 0:00:21\n",
      "   -- ------------------------------------- 0.8/12.7 MB 581.2 kB/s eta 0:00:21\n",
      "   --- ------------------------------------ 1.0/12.7 MB 584.1 kB/s eta 0:00:21\n",
      "   --- ------------------------------------ 1.0/12.7 MB 584.1 kB/s eta 0:00:21\n",
      "   --- ------------------------------------ 1.0/12.7 MB 584.1 kB/s eta 0:00:21\n",
      "   ---- ----------------------------------- 1.3/12.7 MB 567.1 kB/s eta 0:00:21\n",
      "   ---- ----------------------------------- 1.3/12.7 MB 567.1 kB/s eta 0:00:21\n",
      "   ---- ----------------------------------- 1.6/12.7 MB 542.4 kB/s eta 0:00:21\n",
      "   ---- ----------------------------------- 1.6/12.7 MB 542.4 kB/s eta 0:00:21\n",
      "   ---- ----------------------------------- 1.6/12.7 MB 542.4 kB/s eta 0:00:21\n",
      "   ----- ---------------------------------- 1.8/12.7 MB 538.9 kB/s eta 0:00:21\n",
      "   ----- ---------------------------------- 1.8/12.7 MB 538.9 kB/s eta 0:00:21\n",
      "   ------ --------------------------------- 2.1/12.7 MB 545.4 kB/s eta 0:00:20\n",
      "   ------ --------------------------------- 2.1/12.7 MB 545.4 kB/s eta 0:00:20\n",
      "   ------- -------------------------------- 2.4/12.7 MB 547.4 kB/s eta 0:00:19\n",
      "   ------- -------------------------------- 2.4/12.7 MB 547.4 kB/s eta 0:00:19\n",
      "   ------- -------------------------------- 2.4/12.7 MB 547.4 kB/s eta 0:00:19\n",
      "   -------- ------------------------------- 2.6/12.7 MB 528.5 kB/s eta 0:00:20\n",
      "   -------- ------------------------------- 2.6/12.7 MB 528.5 kB/s eta 0:00:20\n",
      "   --------- ------------------------------ 2.9/12.7 MB 529.1 kB/s eta 0:00:19\n",
      "   --------- ------------------------------ 2.9/12.7 MB 529.1 kB/s eta 0:00:19\n",
      "   --------- ------------------------------ 3.1/12.7 MB 529.9 kB/s eta 0:00:19\n",
      "   --------- ------------------------------ 3.1/12.7 MB 529.9 kB/s eta 0:00:19\n",
      "   --------- ------------------------------ 3.1/12.7 MB 529.9 kB/s eta 0:00:19\n",
      "   ---------- ----------------------------- 3.4/12.7 MB 529.7 kB/s eta 0:00:18\n",
      "   ---------- ----------------------------- 3.4/12.7 MB 529.7 kB/s eta 0:00:18\n",
      "   ----------- ---------------------------- 3.7/12.7 MB 533.4 kB/s eta 0:00:17\n",
      "   ----------- ---------------------------- 3.7/12.7 MB 533.4 kB/s eta 0:00:17\n",
      "   ------------ --------------------------- 3.9/12.7 MB 534.5 kB/s eta 0:00:17\n",
      "   ------------ --------------------------- 3.9/12.7 MB 534.5 kB/s eta 0:00:17\n",
      "   ------------- -------------------------- 4.2/12.7 MB 534.0 kB/s eta 0:00:16\n",
      "   ------------- -------------------------- 4.2/12.7 MB 534.0 kB/s eta 0:00:16\n",
      "   ------------- -------------------------- 4.2/12.7 MB 534.0 kB/s eta 0:00:16\n",
      "   -------------- ------------------------- 4.5/12.7 MB 533.8 kB/s eta 0:00:16\n",
      "   -------------- ------------------------- 4.5/12.7 MB 533.8 kB/s eta 0:00:16\n",
      "   -------------- ------------------------- 4.7/12.7 MB 536.2 kB/s eta 0:00:15\n",
      "   -------------- ------------------------- 4.7/12.7 MB 536.2 kB/s eta 0:00:15\n",
      "   --------------- ------------------------ 5.0/12.7 MB 539.2 kB/s eta 0:00:15\n",
      "   --------------- ------------------------ 5.0/12.7 MB 539.2 kB/s eta 0:00:15\n",
      "   ---------------- ----------------------- 5.2/12.7 MB 542.1 kB/s eta 0:00:14\n",
      "   ---------------- ----------------------- 5.2/12.7 MB 542.1 kB/s eta 0:00:14\n",
      "   ---------------- ----------------------- 5.2/12.7 MB 542.1 kB/s eta 0:00:14\n",
      "   ----------------- ---------------------- 5.5/12.7 MB 534.7 kB/s eta 0:00:14\n",
      "   ----------------- ---------------------- 5.5/12.7 MB 534.7 kB/s eta 0:00:14\n",
      "   ------------------ --------------------- 5.8/12.7 MB 536.8 kB/s eta 0:00:13\n",
      "   ------------------ --------------------- 5.8/12.7 MB 536.8 kB/s eta 0:00:13\n",
      "   ------------------ --------------------- 6.0/12.7 MB 537.0 kB/s eta 0:00:13\n",
      "   ------------------ --------------------- 6.0/12.7 MB 537.0 kB/s eta 0:00:13\n",
      "   ------------------- -------------------- 6.3/12.7 MB 539.6 kB/s eta 0:00:12\n",
      "   ------------------- -------------------- 6.3/12.7 MB 539.6 kB/s eta 0:00:12\n",
      "   ------------------- -------------------- 6.3/12.7 MB 539.6 kB/s eta 0:00:12\n",
      "   -------------------- ------------------- 6.6/12.7 MB 538.3 kB/s eta 0:00:12\n",
      "   -------------------- ------------------- 6.6/12.7 MB 538.3 kB/s eta 0:00:12\n",
      "   --------------------- ------------------ 6.8/12.7 MB 539.4 kB/s eta 0:00:11\n",
      "   --------------------- ------------------ 6.8/12.7 MB 539.4 kB/s eta 0:00:11\n",
      "   --------------------- ------------------ 6.8/12.7 MB 539.4 kB/s eta 0:00:11\n",
      "   ---------------------- ----------------- 7.1/12.7 MB 534.4 kB/s eta 0:00:11\n",
      "   ---------------------- ----------------- 7.1/12.7 MB 534.4 kB/s eta 0:00:11\n",
      "   ---------------------- ----------------- 7.1/12.7 MB 534.4 kB/s eta 0:00:11\n",
      "   ----------------------- ---------------- 7.3/12.7 MB 531.0 kB/s eta 0:00:11\n",
      "   ----------------------- ---------------- 7.3/12.7 MB 531.0 kB/s eta 0:00:11\n",
      "   ----------------------- ---------------- 7.6/12.7 MB 529.4 kB/s eta 0:00:10\n",
      "   ----------------------- ---------------- 7.6/12.7 MB 529.4 kB/s eta 0:00:10\n",
      "   ------------------------ --------------- 7.9/12.7 MB 528.4 kB/s eta 0:00:10\n",
      "   ------------------------ --------------- 7.9/12.7 MB 528.4 kB/s eta 0:00:10\n",
      "   ------------------------ --------------- 7.9/12.7 MB 528.4 kB/s eta 0:00:10\n",
      "   ------------------------- -------------- 8.1/12.7 MB 528.4 kB/s eta 0:00:09\n",
      "   ------------------------- -------------- 8.1/12.7 MB 528.4 kB/s eta 0:00:09\n",
      "   -------------------------- ------------- 8.4/12.7 MB 530.2 kB/s eta 0:00:09\n",
      "   --------------------------- ------------ 8.7/12.7 MB 532.9 kB/s eta 0:00:08\n",
      "   --------------------------- ------------ 8.7/12.7 MB 532.9 kB/s eta 0:00:08\n",
      "   --------------------------- ------------ 8.7/12.7 MB 532.9 kB/s eta 0:00:08\n",
      "   ---------------------------- ----------- 8.9/12.7 MB 534.2 kB/s eta 0:00:08\n",
      "   ---------------------------- ----------- 8.9/12.7 MB 534.2 kB/s eta 0:00:08\n",
      "   ---------------------------- ----------- 9.2/12.7 MB 536.4 kB/s eta 0:00:07\n",
      "   ----------------------------- ---------- 9.4/12.7 MB 538.2 kB/s eta 0:00:07\n",
      "   ----------------------------- ---------- 9.4/12.7 MB 538.2 kB/s eta 0:00:07\n",
      "   ----------------------------- ---------- 9.4/12.7 MB 538.2 kB/s eta 0:00:07\n",
      "   ------------------------------ --------- 9.7/12.7 MB 538.6 kB/s eta 0:00:06\n",
      "   ------------------------------ --------- 9.7/12.7 MB 538.6 kB/s eta 0:00:06\n",
      "   ------------------------------- -------- 10.0/12.7 MB 539.2 kB/s eta 0:00:06\n",
      "   ------------------------------- -------- 10.0/12.7 MB 539.2 kB/s eta 0:00:06\n",
      "   -------------------------------- ------- 10.2/12.7 MB 539.4 kB/s eta 0:00:05\n",
      "   -------------------------------- ------- 10.2/12.7 MB 539.4 kB/s eta 0:00:05\n",
      "   -------------------------------- ------- 10.2/12.7 MB 539.4 kB/s eta 0:00:05\n",
      "   -------------------------------- ------- 10.5/12.7 MB 538.2 kB/s eta 0:00:05\n",
      "   -------------------------------- ------- 10.5/12.7 MB 538.2 kB/s eta 0:00:05\n",
      "   --------------------------------- ------ 10.7/12.7 MB 538.3 kB/s eta 0:00:04\n",
      "   --------------------------------- ------ 10.7/12.7 MB 538.3 kB/s eta 0:00:04\n",
      "   ---------------------------------- ----- 11.0/12.7 MB 537.9 kB/s eta 0:00:04\n",
      "   ---------------------------------- ----- 11.0/12.7 MB 537.9 kB/s eta 0:00:04\n",
      "   ---------------------------------- ----- 11.0/12.7 MB 537.9 kB/s eta 0:00:04\n",
      "   ----------------------------------- ---- 11.3/12.7 MB 537.6 kB/s eta 0:00:03\n",
      "   ----------------------------------- ---- 11.3/12.7 MB 537.6 kB/s eta 0:00:03\n",
      "   ------------------------------------ --- 11.5/12.7 MB 537.2 kB/s eta 0:00:03\n",
      "   ------------------------------------ --- 11.5/12.7 MB 537.2 kB/s eta 0:00:03\n",
      "   ------------------------------------- -- 11.8/12.7 MB 538.0 kB/s eta 0:00:02\n",
      "   ------------------------------------- -- 11.8/12.7 MB 538.0 kB/s eta 0:00:02\n",
      "   ------------------------------------- -- 12.1/12.7 MB 539.3 kB/s eta 0:00:02\n",
      "   ------------------------------------- -- 12.1/12.7 MB 539.3 kB/s eta 0:00:02\n",
      "   ------------------------------------- -- 12.1/12.7 MB 539.3 kB/s eta 0:00:02\n",
      "   -------------------------------------- - 12.3/12.7 MB 539.3 kB/s eta 0:00:01\n",
      "   -------------------------------------- - 12.3/12.7 MB 539.3 kB/s eta 0:00:01\n",
      "   ---------------------------------------  12.6/12.7 MB 541.1 kB/s eta 0:00:01\n",
      "   ---------------------------------------- 12.7/12.7 MB 541.1 kB/s eta 0:00:00\n",
      "Installing collected packages: numpy\n",
      "Successfully installed numpy-2.3.1\n"
     ]
    },
    {
     "name": "stderr",
     "output_type": "stream",
     "text": [
      "\n",
      "[notice] A new release of pip is available: 24.3.1 -> 25.1.1\n",
      "[notice] To update, run: python.exe -m pip install --upgrade pip\n"
     ]
    }
   ],
   "source": [
    "!Pip install numpy"
   ]
  },
  {
   "cell_type": "code",
   "execution_count": 2,
   "id": "c0801f57",
   "metadata": {},
   "outputs": [
    {
     "name": "stdout",
     "output_type": "stream",
     "text": [
      "2.3.1\n"
     ]
    }
   ],
   "source": [
    "import numpy as np\n",
    "print(np.__version__)"
   ]
  }
 ],
 "metadata": {
  "kernelspec": {
   "display_name": "Python 3",
   "language": "python",
   "name": "python3"
  },
  "language_info": {
   "codemirror_mode": {
    "name": "ipython",
    "version": 3
   },
   "file_extension": ".py",
   "mimetype": "text/x-python",
   "name": "python",
   "nbconvert_exporter": "python",
   "pygments_lexer": "ipython3",
   "version": "3.13.1"
  }
 },
 "nbformat": 4,
 "nbformat_minor": 5
}
