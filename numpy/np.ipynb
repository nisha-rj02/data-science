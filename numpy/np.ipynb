{
 "cells": [
  {
   "cell_type": "code",
   "execution_count": null,
   "id": "c6d16f73",
   "metadata": {},
   "outputs": [],
   "source": [
    "import numpy as np\n",
    "print(np.__version__)"
   ]
  },
  {
   "cell_type": "code",
   "execution_count": null,
   "id": "17c5b3c1",
   "metadata": {},
   "outputs": [],
   "source": [
    "arr = np.arange(1,10)\n",
    "arr"
   ]
  },
  {
   "cell_type": "code",
   "execution_count": null,
   "id": "f843bc81",
   "metadata": {},
   "outputs": [],
   "source": [
    "np.ones(5)\n"
   ]
  },
  {
   "cell_type": "code",
   "execution_count": null,
   "id": "5190661b",
   "metadata": {},
   "outputs": [],
   "source": [
    "np.linspace(1,10,20)"
   ]
  },
  {
   "cell_type": "code",
   "execution_count": null,
   "id": "903f80cd",
   "metadata": {},
   "outputs": [],
   "source": [
    "np.ones((5,5))"
   ]
  },
  {
   "cell_type": "code",
   "execution_count": null,
   "id": "b10a70c4",
   "metadata": {},
   "outputs": [],
   "source": [
    "np.arange(1,31)"
   ]
  },
  {
   "cell_type": "code",
   "execution_count": null,
   "id": "40113337",
   "metadata": {},
   "outputs": [],
   "source": [
    "arr.reshape(5,6)\n",
    "arr"
   ]
  },
  {
   "cell_type": "code",
   "execution_count": null,
   "id": "5f701cb8",
   "metadata": {},
   "outputs": [],
   "source": [
    "arr= np.random.randint(1,5,9)\n",
    "arr"
   ]
  },
  {
   "cell_type": "code",
   "execution_count": null,
   "id": "9042c592",
   "metadata": {},
   "outputs": [],
   "source": [
    "arr= np.random.randint(1,5,(5,2))\n",
    "arr"
   ]
  },
  {
   "cell_type": "code",
   "execution_count": null,
   "id": "ded2e09a",
   "metadata": {},
   "outputs": [],
   "source": [
    "np.random.random((5,2))"
   ]
  },
  {
   "cell_type": "code",
   "execution_count": null,
   "id": "0f4a2d0f",
   "metadata": {},
   "outputs": [],
   "source": [
    "arr=np.arange(60)\n",
    "arr"
   ]
  },
  {
   "cell_type": "code",
   "execution_count": null,
   "id": "c60c82cd",
   "metadata": {},
   "outputs": [],
   "source": [
    "print(\"array shape:-\",arr.shape)\n",
    "print(\"size of array:-\",arr.size)\n",
    "print(\"number of dim:-\",arr.ndim)\n",
    "print(\"dtype of array:-\",arr.dtype)"
   ]
  },
  {
   "cell_type": "code",
   "execution_count": null,
   "id": "b52ff445",
   "metadata": {},
   "outputs": [],
   "source": [
    "arr.flatten()  #convert 2d into 1d"
   ]
  },
  {
   "cell_type": "code",
   "execution_count": null,
   "id": "5e5dd75d",
   "metadata": {},
   "outputs": [],
   "source": [
    "arr.ravel()   #for view"
   ]
  },
  {
   "cell_type": "code",
   "execution_count": null,
   "id": "601fce85",
   "metadata": {},
   "outputs": [],
   "source": [
    "np.arange(60).reshape(12,5)\n"
   ]
  },
  {
   "cell_type": "code",
   "execution_count": null,
   "id": "e717797b",
   "metadata": {},
   "outputs": [],
   "source": [
    "arr[0]"
   ]
  },
  {
   "cell_type": "code",
   "execution_count": null,
   "id": "a5ebc4a8",
   "metadata": {},
   "outputs": [],
   "source": [
    "arr[0:2][1:2]"
   ]
  },
  {
   "cell_type": "code",
   "execution_count": null,
   "id": "8cbfce27",
   "metadata": {},
   "outputs": [],
   "source": [
    "arr[11][4]"
   ]
  },
  {
   "cell_type": "code",
   "execution_count": null,
   "id": "bbc9820e",
   "metadata": {},
   "outputs": [],
   "source": [
    "arr[-1][-1]"
   ]
  },
  {
   "cell_type": "code",
   "execution_count": null,
   "id": "682c62a8",
   "metadata": {},
   "outputs": [],
   "source": [
    "arr[11:12,4]"
   ]
  },
  {
   "cell_type": "code",
   "execution_count": null,
   "id": "84b85428",
   "metadata": {},
   "outputs": [],
   "source": [
    "arr[-1][-1]=100"
   ]
  },
  {
   "cell_type": "code",
   "execution_count": null,
   "id": "08fa8c74",
   "metadata": {},
   "outputs": [],
   "source": [
    "arr"
   ]
  },
  {
   "cell_type": "code",
   "execution_count": null,
   "id": "376756ce",
   "metadata": {},
   "outputs": [],
   "source": [
    "#min.,max,"
   ]
  },
  {
   "cell_type": "code",
   "execution_count": null,
   "id": "f230dda5",
   "metadata": {},
   "outputs": [],
   "source": [
    "arr=np.array(np.arange(225).reshape(5,15,3))\n",
    "arr"
   ]
  },
  {
   "cell_type": "code",
   "execution_count": null,
   "id": "769f1023",
   "metadata": {},
   "outputs": [],
   "source": [
    "print(\"array shape:-\",arr.shape)\n",
    "print(\"size of array:-\",arr.size)\n",
    "print(\"number of dim:-\",arr.ndim)\n",
    "print(\"dtype of array:-\",arr.dtype)"
   ]
  },
  {
   "cell_type": "code",
   "execution_count": null,
   "id": "f779f274",
   "metadata": {},
   "outputs": [],
   "source": [
    "arr[0]"
   ]
  },
  {
   "cell_type": "code",
   "execution_count": null,
   "id": "3f832af7",
   "metadata": {},
   "outputs": [],
   "source": [
    "arr[0][0][0]"
   ]
  },
  {
   "cell_type": "code",
   "execution_count": null,
   "id": "992c6a53",
   "metadata": {},
   "outputs": [],
   "source": [
    "arr[0:2,1:3,1:3]"
   ]
  },
  {
   "cell_type": "code",
   "execution_count": null,
   "id": "52edba33",
   "metadata": {},
   "outputs": [],
   "source": [
    "arr[0]"
   ]
  },
  {
   "cell_type": "code",
   "execution_count": null,
   "id": "c67fc284",
   "metadata": {},
   "outputs": [],
   "source": [
    "arr[1]"
   ]
  },
  {
   "cell_type": "code",
   "execution_count": null,
   "id": "ccafd819",
   "metadata": {},
   "outputs": [],
   "source": [
    "arr[0:6,0,0]"
   ]
  },
  {
   "cell_type": "code",
   "execution_count": null,
   "id": "d9164ee6",
   "metadata": {},
   "outputs": [],
   "source": [
    "arr1 =np.arange(1,10)\n",
    "arr2 =np.arange(11,20)\n",
    "print(arr1+arr2)\n",
    "print(arr1/arr2)\n",
    "print(arr1*arr2)\n",
    "print(arr1.min())\n",
    "print(arr1.max())\n",
    "print(arr2.mean())"
   ]
  },
  {
   "cell_type": "code",
   "execution_count": null,
   "id": "99022f93",
   "metadata": {},
   "outputs": [],
   "source": []
  }
 ],
 "metadata": {
  "kernelspec": {
   "display_name": "Python 3",
   "language": "python",
   "name": "python3"
  },
  "language_info": {
   "codemirror_mode": {
    "name": "ipython",
    "version": 3
   },
   "file_extension": ".py",
   "mimetype": "text/x-python",
   "name": "python",
   "nbconvert_exporter": "python",
   "pygments_lexer": "ipython3",
   "version": "3.13.1"
  }
 },
 "nbformat": 4,
 "nbformat_minor": 5
}
